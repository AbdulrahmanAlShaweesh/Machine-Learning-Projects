{
 "cells": [
  {
   "cell_type": "code",
   "execution_count": 188,
   "id": "c4505320",
   "metadata": {},
   "outputs": [
    {
     "data": {
      "text/html": [
       "<div>\n",
       "<style scoped>\n",
       "    .dataframe tbody tr th:only-of-type {\n",
       "        vertical-align: middle;\n",
       "    }\n",
       "\n",
       "    .dataframe tbody tr th {\n",
       "        vertical-align: top;\n",
       "    }\n",
       "\n",
       "    .dataframe thead th {\n",
       "        text-align: right;\n",
       "    }\n",
       "</style>\n",
       "<table border=\"1\" class=\"dataframe\">\n",
       "  <thead>\n",
       "    <tr style=\"text-align: right;\">\n",
       "      <th></th>\n",
       "      <th>Populations</th>\n",
       "      <th>Profits</th>\n",
       "    </tr>\n",
       "  </thead>\n",
       "  <tbody>\n",
       "    <tr>\n",
       "      <th>count</th>\n",
       "      <td>97.000000</td>\n",
       "      <td>97.000000</td>\n",
       "    </tr>\n",
       "    <tr>\n",
       "      <th>mean</th>\n",
       "      <td>8.159800</td>\n",
       "      <td>5.839135</td>\n",
       "    </tr>\n",
       "    <tr>\n",
       "      <th>std</th>\n",
       "      <td>3.869884</td>\n",
       "      <td>5.510262</td>\n",
       "    </tr>\n",
       "    <tr>\n",
       "      <th>min</th>\n",
       "      <td>5.026900</td>\n",
       "      <td>-2.680700</td>\n",
       "    </tr>\n",
       "    <tr>\n",
       "      <th>25%</th>\n",
       "      <td>5.707700</td>\n",
       "      <td>1.986900</td>\n",
       "    </tr>\n",
       "    <tr>\n",
       "      <th>50%</th>\n",
       "      <td>6.589400</td>\n",
       "      <td>4.562300</td>\n",
       "    </tr>\n",
       "    <tr>\n",
       "      <th>75%</th>\n",
       "      <td>8.578100</td>\n",
       "      <td>7.046700</td>\n",
       "    </tr>\n",
       "    <tr>\n",
       "      <th>max</th>\n",
       "      <td>22.203000</td>\n",
       "      <td>24.147000</td>\n",
       "    </tr>\n",
       "  </tbody>\n",
       "</table>\n",
       "</div>"
      ],
      "text/plain": [
       "       Populations    Profits\n",
       "count    97.000000  97.000000\n",
       "mean      8.159800   5.839135\n",
       "std       3.869884   5.510262\n",
       "min       5.026900  -2.680700\n",
       "25%       5.707700   1.986900\n",
       "50%       6.589400   4.562300\n",
       "75%       8.578100   7.046700\n",
       "max      22.203000  24.147000"
      ]
     },
     "execution_count": 188,
     "metadata": {},
     "output_type": "execute_result"
    }
   ],
   "source": [
    "import numpy as np                           # loading numpy model\n",
    "import pandas as pd                          # loading pandas model\n",
    "import matplotlib.pyplot as plt              # loading matplotlib.pyplot model\n",
    "\n",
    "df = pd.read_csv(\"ML.csv\", header=None, names=[\"Populations\", \"Profits\"])\n",
    "df[[\"Populations\", \"Profits\"]].describe()"
   ]
  },
  {
   "cell_type": "code",
   "execution_count": 189,
   "id": "bdf1d19f",
   "metadata": {},
   "outputs": [
    {
     "data": {
      "image/png": "[encoded data removed]",
      "text/plain": [
       "<Figure size 432x288 with 1 Axes>"
      ]
     },
     "metadata": {
      "needs_background": "light"
     },
     "output_type": "display_data"
    }
   ],
   "source": [
    "plt.scatter(df[\"Populations\"], df[\"Profits\"])        # ploting the data using scatter function \n",
    "plt.xlabel(\"Population\") \n",
    "plt.ylabel(\"Profile\")\n",
    "plt.title(\"Populations Vs. Profits\")\n",
    "plt.tight_layout()\n",
    "plt.grid(False)\n",
    "plt.show()"
   ]
  },
  {
   "cell_type": "code",
   "execution_count": 190,
   "id": "dbf4a9c7",
   "metadata": {},
   "outputs": [
    {
     "data": {
      "text/plain": [
       "(97, 3)"
      ]
     },
     "execution_count": 190,
     "metadata": {},
     "output_type": "execute_result"
    }
   ],
   "source": [
    "df.insert(0, 'one', 1)          # inserting a new column with a value of 1\n",
    "df.shape"
   ]
  },
  {
   "cell_type": "code",
   "execution_count": 191,
   "id": "b6765b81",
   "metadata": {},
   "outputs": [
    {
     "data": {
      "text/plain": [
       "matrix([[0, 0]])"
      ]
     },
     "execution_count": 191,
     "metadata": {},
     "output_type": "execute_result"
    }
   ],
   "source": [
    "X = df.iloc[:, : df.shape[1] - 1] \n",
    "y = df.iloc[:, df.shape[1] - 1 : df.shape[1]]\n",
    "\n",
    "# conver x,y into matrix and create an matrix with inital values for theta. \n",
    "X = np.matrix(X)\n",
    "y = np.matrix(y) \n",
    "theta = np.matrix(np.array([0,0]))\n",
    "theta"
   ]
  },
  {
   "cell_type": "markdown",
   "id": "ff5490cd",
   "metadata": {},
   "source": [
    "# calculate cost j value"
   ]
  },
  {
   "cell_type": "code",
   "execution_count": 192,
   "id": "d35c9cda",
   "metadata": {},
   "outputs": [
    {
     "data": {
      "text/plain": [
       "32.072733877455676"
      ]
     },
     "execution_count": 192,
     "metadata": {},
     "output_type": "execute_result"
    }
   ],
   "source": [
    "def calculate_cost_j(X, y, theta) :\n",
    "    z = np.power(((X * theta.T) - y), 2)\n",
    "    return np.sum(z) / (2 * len(y))\n",
    "\n",
    "j = calculate_cost_j(X, y, theta) \n",
    "\n",
    "j"
   ]
  },
  {
   "cell_type": "markdown",
   "id": "67492537",
   "metadata": {},
   "source": [
    "#### # since the const value is big, then need to minmaize it by finding a value for theta0 and theta1 that can minimaize the j \n",
    "### using gradient desinte to find the value for theta0 and theta1 that minmize j"
   ]
  },
  {
   "cell_type": "code",
   "execution_count": 203,
   "id": "e087f1e6",
   "metadata": {},
   "outputs": [
    {
     "data": {
      "text/plain": [
       "matrix([[-3.24961469,  1.12811924]])"
      ]
     },
     "execution_count": 203,
     "metadata": {},
     "output_type": "execute_result"
    }
   ],
   "source": [
    "def gradient_desinte(X, y, theta, alpha, iterations) :\n",
    "    tempTheta = np.matrix(np.zeros(theta.shape))\n",
    "    parameters = theta.shape[1]\n",
    "    cost_j = np.zeros(iterations) \n",
    "    \n",
    "    for i in range(iterations) :\n",
    "        value = (X * theta.T) - y \n",
    "        \n",
    "        for j in range(parameters) :\n",
    "            term = np.multiply(value, X[:, j]) \n",
    "            tempTheta[0, j] = theta[0, j] - ((alpha / len(y)) * np.sum(term))\n",
    "        theta = tempTheta \n",
    "        cost_j[i] = calculate_cost_j(X, y, theta) \n",
    "        \n",
    "    return theta, cost_j\n",
    "            \n",
    "alpha = 0.01 \n",
    "iterations = 1000\n",
    "theta, cost_j = gradient_desinte(X, y, theta, alpha, iterations)\n",
    "theta"
   ]
  },
  {
   "cell_type": "code",
   "execution_count": 236,
   "id": "0affee2e",
   "metadata": {},
   "outputs": [
    {
     "data": {
      "text/plain": [
       "array([ 2.42539308,  2.62097407,  2.81655506,  3.01213605,  3.20771704,\n",
       "        3.40329803,  3.59887902,  3.79446001,  3.990041  ,  4.18562199,\n",
       "        4.38120298,  4.57678397,  4.77236495,  4.96794594,  5.16352693,\n",
       "        5.35910792,  5.55468891,  5.7502699 ,  5.94585089,  6.14143188,\n",
       "        6.33701287,  6.53259386,  6.72817485,  6.92375584,  7.11933683,\n",
       "        7.31491782,  7.51049881,  7.7060798 ,  7.90166079,  8.09724177,\n",
       "        8.29282276,  8.48840375,  8.68398474,  8.87956573,  9.07514672,\n",
       "        9.27072771,  9.4663087 ,  9.66188969,  9.85747068, 10.05305167,\n",
       "       10.24863266, 10.44421365, 10.63979464, 10.83537563, 11.03095662,\n",
       "       11.2265376 , 11.42211859, 11.61769958, 11.81328057, 12.00886156,\n",
       "       12.20444255, 12.40002354, 12.59560453, 12.79118552, 12.98676651,\n",
       "       13.1823475 , 13.37792849, 13.57350948, 13.76909047, 13.96467146,\n",
       "       14.16025245, 14.35583344, 14.55141442, 14.74699541, 14.9425764 ,\n",
       "       15.13815739, 15.33373838, 15.52931937, 15.72490036, 15.92048135,\n",
       "       16.11606234, 16.31164333, 16.50722432, 16.70280531, 16.8983863 ,\n",
       "       17.09396729, 17.28954828, 17.48512927, 17.68071025, 17.87629124,\n",
       "       18.07187223, 18.26745322, 18.46303421, 18.6586152 , 18.85419619,\n",
       "       19.04977718, 19.24535817, 19.44093916, 19.63652015, 19.83210114,\n",
       "       20.02768213, 20.22326312, 20.41884411, 20.6144251 , 20.81000609,\n",
       "       21.00558707, 21.20116806, 21.39674905, 21.59233004, 21.78791103])"
      ]
     },
     "execution_count": 236,
     "metadata": {},
     "output_type": "execute_result"
    }
   ],
   "source": [
    "X = np.linspace(data.Populations.min() , data.Populations.max(), 100)\n",
    "linearEquation = theta_valeu[0, 0] + (theta_valeu[0, 1] * X)\n",
    "\n",
    "linearEquation"
   ]
  },
  {
   "cell_type": "code",
   "execution_count": 261,
   "id": "9d66dc2c",
   "metadata": {},
   "outputs": [
    {
     "data": {
      "image/png": "[encoded data removed]",
      "text/plain": [
       "<Figure size 360x360 with 1 Axes>"
      ]
     },
     "metadata": {},
     "output_type": "display_data"
    }
   ],
   "source": [
    "ploting, ax = plt.subplots(figsize = (5,5)) \n",
    "\n",
    "plt.scatter(data.Populations, data.Profits,  color=\"blue\", label=\"Traning Data\")\n",
    "\n",
    "ax.plot(X, linearEquation, color=\"r\", label=\"prediction\")\n",
    "ax.set_xlabel(\"Profits\")\n",
    "ax.set_ylabel(\"Population\")\n",
    "ax.set_title(\"Population Vs. Profits\")\n",
    "ax.legend(loc=2)\n",
    "plt.show()"
   ]
  },
  {
   "cell_type": "code",
   "execution_count": null,
   "id": "8712e066",
   "metadata": {},
   "outputs": [],
   "source": []
  }
 ],
 "metadata": {
  "kernelspec": {
   "display_name": "Python 3 (ipykernel)",
   "language": "python",
   "name": "python3"
  },
  "language_info": {
   "codemirror_mode": {
    "name": "ipython",
    "version": 3
   },
   "file_extension": ".py",
   "mimetype": "text/x-python",
   "name": "python",
   "nbconvert_exporter": "python",
   "pygments_lexer": "ipython3",
   "version": "3.9.7"
  }
 },
 "nbformat": 4,
 "nbformat_minor": 5
}
